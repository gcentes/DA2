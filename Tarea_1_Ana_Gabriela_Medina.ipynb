{
  "nbformat": 4,
  "nbformat_minor": 0,
  "metadata": {
    "colab": {
      "provenance": []
    },
    "kernelspec": {
      "name": "python3",
      "display_name": "Python 3"
    },
    "language_info": {
      "name": "python"
    }
  },
  "cells": [
    {
      "cell_type": "markdown",
      "source": [
        "# Tarea 1 - Proceso de generación de valor por extración de datos\n"
      ],
      "metadata": {
        "id": "pOhibryEonSI"
      }
    },
    {
      "cell_type": "markdown",
      "source": [
        "Este proyecto esta diseñado para que usted pueda:\n",
        "\n",
        "1.   Poner en práctica los conocimientos específicos del leguaje Python y las bibliotecas de Pandas, Matplotlib con Seaborn y numpy\n",
        "2.   Generar una plantilla reutilizable de un proceso de limpieza, consolidación y carga de datos\n",
        "3.   Aplicar los conocimientos analizando una base de datos del mundo real.\n",
        "\n",
        "Utilizaremos el dataset superstore que puede encontar en la carpeta de datasets de Google Drive. Este es la información de ventas y ordenes de cuatro años de una tienda en línea y le permitirá hacer análisis de ventas, categorías etc.\n",
        "\n",
        "Mantenga en mente que algunos errores en carga y limpieza de datos pueden surgir. Su tarea es identificarlos y sobreponerse a ellos.\n",
        "\n"
      ],
      "metadata": {
        "id": "oXPs8b_fou_z"
      }
    },
    {
      "cell_type": "code",
      "source": [
        "import pandas as pd\n",
        "from google.colab import drive\n",
        "\n",
        "drive.mount('/content/drive')"
      ],
      "metadata": {
        "id": "zltk5pKsouYA",
        "outputId": "75c9f153-3815-4f5c-e3b6-7a1dabd5a45b",
        "colab": {
          "base_uri": "https://localhost:8080/"
        }
      },
      "execution_count": 20,
      "outputs": [
        {
          "output_type": "stream",
          "name": "stdout",
          "text": [
            "Drive already mounted at /content/drive; to attempt to forcibly remount, call drive.mount(\"/content/drive\", force_remount=True).\n"
          ]
        }
      ]
    },
    {
      "cell_type": "markdown",
      "source": [
        "# Importar Datos e Identificar variables a limpiar"
      ],
      "metadata": {
        "id": "Mjz4Rx2pv2vd"
      }
    },
    {
      "cell_type": "code",
      "execution_count": 21,
      "metadata": {
        "id": "XqtluUm1vxg_"
      },
      "outputs": [],
      "source": [
        "import pandas as pd\n",
        "\n",
        "path1 = '/content/drive/MyDrive/Superstore_dataset2011-2015-1.csv'\n",
        "path2 = '/content/drive/MyDrive/Superstore_dataset2011-2015-2.csv'\n",
        "path3 = '/content/drive/MyDrive/Superstore_dataset2011-2015-3.csv'\n",
        "path4 = '/content/drive/MyDrive/Superstore_dataset2011-2015-4.csv'\n",
        "path5 = '/content/drive/MyDrive/Superstore_dataset2011-2015-5.csv'\n",
        "path6 = '/content/drive/MyDrive/Superstore_dataset2011-2015-8.csv'\n",
        "\n",
        "df1 = pd.read_csv(path1, encoding='latin-1')\n",
        "df2 = pd.read_csv(path2, encoding='latin-1')\n",
        "df3 = pd.read_csv(path3, encoding='latin-1')\n",
        "df4 = pd.read_csv(path4, encoding='latin-1')\n",
        "df5 = pd.read_csv(path5, encoding='latin-1')\n",
        "df6 = pd.read_csv(path6, encoding='latin-1')"
      ]
    },
    {
      "cell_type": "markdown",
      "source": [
        "# Limpieza de Datos"
      ],
      "metadata": {
        "id": "6Eys7fU3xsKQ"
      }
    },
    {
      "cell_type": "code",
      "source": [
        "df1.drop('Postal Code', axis=1, inplace=True)\n",
        "df1['Order Date'] = pd.to_datetime(df['Order Date'])\n",
        "df1['Ship Date'] = pd.to_datetime(df['Ship Date'])\n",
        "df1.dropna(inplace=True)"
      ],
      "metadata": {
        "id": "DAJvKLerxwbC"
      },
      "execution_count": 22,
      "outputs": []
    },
    {
      "cell_type": "markdown",
      "source": [
        "# Creación de nueva base de datos en Google Drive\n",
        "\n",
        "\n"
      ],
      "metadata": {
        "id": "VLsfTaw4xw3r"
      }
    },
    {
      "cell_type": "code",
      "source": [
        "from _future_ import print_function\n",
        "\n",
        "import google.auth\n",
        "from googleapiclient.discovery import build\n",
        "from googleapiclient.errors import HttpError\n",
        "\n",
        "\n",
        "def create(title):\n",
        "    \"\"\"\n",
        "    Creates the Sheet the user has access to.\n",
        "    Load pre-authorized user credentials from the environment.\n",
        "    TODO(developer) - See https://developers.google.com/identity\n",
        "    for guides on implementing OAuth2 for the application.\n",
        "        \"\"\"\n",
        "    creds, _ = google.auth.default()\n",
        "\n",
        "    try:\n",
        "        service = build('sheets', 'v4', credentials=creds)\n",
        "        spreadsheet = {\n",
        "            'properties': {\n",
        "                'title': title\n",
        "            }\n",
        "        }\n",
        "        spreadsheet = service.spreadsheets().create(body=spreadsheet,\n",
        "\n",
        "                                                    fields='spreadsheetId') \\\n",
        "            .execute()\n",
        "        print(f\"Spreadsheet ID: {(spreadsheet.get('spreadsheetId'))}\")\n",
        "        return spreadsheet.get('spreadsheetId')\n",
        "    except HttpError as error:\n",
        "        print(f\"An error occurred: {error}\")\n",
        "        return error\n",
        "if _name_ == '__main__':\n",
        "    create(\"mysheet1\")\n"
      ],
      "metadata": {
        "id": "vh2pNzi12kX2",
        "outputId": "12bab211-4361-4193-9a67-d0101c516601",
        "colab": {
          "base_uri": "https://localhost:8080/",
          "height": 399
        }
      },
      "execution_count": 19,
      "outputs": [
        {
          "output_type": "error",
          "ename": "ModuleNotFoundError",
          "evalue": "ignored",
          "traceback": [
            "\u001b[0;31m---------------------------------------------------------------------------\u001b[0m",
            "\u001b[0;31mModuleNotFoundError\u001b[0m                       Traceback (most recent call last)",
            "\u001b[0;32m<ipython-input-19-aa1901098d9a>\u001b[0m in \u001b[0;36m<cell line: 1>\u001b[0;34m()\u001b[0m\n\u001b[0;32m----> 1\u001b[0;31m \u001b[0;32mfrom\u001b[0m \u001b[0m_future_\u001b[0m \u001b[0;32mimport\u001b[0m \u001b[0mprint_function\u001b[0m\u001b[0;34m\u001b[0m\u001b[0;34m\u001b[0m\u001b[0m\n\u001b[0m\u001b[1;32m      2\u001b[0m \u001b[0;34m\u001b[0m\u001b[0m\n\u001b[1;32m      3\u001b[0m \u001b[0;32mimport\u001b[0m \u001b[0mgoogle\u001b[0m\u001b[0;34m.\u001b[0m\u001b[0mauth\u001b[0m\u001b[0;34m\u001b[0m\u001b[0;34m\u001b[0m\u001b[0m\n\u001b[1;32m      4\u001b[0m \u001b[0;32mfrom\u001b[0m \u001b[0mgoogleapiclient\u001b[0m\u001b[0;34m.\u001b[0m\u001b[0mdiscovery\u001b[0m \u001b[0;32mimport\u001b[0m \u001b[0mbuild\u001b[0m\u001b[0;34m\u001b[0m\u001b[0;34m\u001b[0m\u001b[0m\n\u001b[1;32m      5\u001b[0m \u001b[0;32mfrom\u001b[0m \u001b[0mgoogleapiclient\u001b[0m\u001b[0;34m.\u001b[0m\u001b[0merrors\u001b[0m \u001b[0;32mimport\u001b[0m \u001b[0mHttpError\u001b[0m\u001b[0;34m\u001b[0m\u001b[0;34m\u001b[0m\u001b[0m\n",
            "\u001b[0;31mModuleNotFoundError\u001b[0m: No module named '_future_'",
            "",
            "\u001b[0;31m---------------------------------------------------------------------------\u001b[0;32m\nNOTE: If your import is failing due to a missing package, you can\nmanually install dependencies using either !pip or !apt.\n\nTo view examples of installing some common dependencies, click the\n\"Open Examples\" button below.\n\u001b[0;31m---------------------------------------------------------------------------\u001b[0m\n"
          ],
          "errorDetails": {
            "actions": [
              {
                "action": "open_url",
                "actionText": "Open Examples",
                "url": "/notebooks/snippets/importing_libraries.ipynb"
              }
            ]
          }
        }
      ]
    },
    {
      "cell_type": "markdown",
      "source": [
        "# Explorando datos\n",
        "\n",
        "Conectar a la nueva base de datos"
      ],
      "metadata": {
        "id": "T7O46GSZ2kou"
      }
    },
    {
      "cell_type": "code",
      "source": [
        "path2 = '/content/drive/MyDrive/mysheet1'\n",
        "\n",
        "df2 = pd.read_csv(path, encoding='latin-1')\n",
        "\n",
        "print(df2)"
      ],
      "metadata": {
        "id": "83HtD_K92p9-",
        "colab": {
          "base_uri": "https://localhost:8080/"
        },
        "outputId": "4594b411-c968-476d-97eb-9849a55f4c90"
      },
      "execution_count": 23,
      "outputs": [
        {
          "output_type": "stream",
          "name": "stdout",
          "text": [
            "       Row ID         Order ID  Order Date   Ship Date       Ship Mode  \\\n",
            "0        7694   MX-2011-157049  13-06-2011  13-06-2011        Same Day   \n",
            "1       15772  ES-2011-1276768  13-06-2011  18-06-2011  Standard Class   \n",
            "2       10075   US-2011-102288  13-06-2011  17-06-2011  Standard Class   \n",
            "3       15771  ES-2011-1276768  13-06-2011  18-06-2011  Standard Class   \n",
            "4       27155    IN-2011-51390  13-06-2011  17-06-2011  Standard Class   \n",
            "...       ...              ...         ...         ...             ...   \n",
            "10255     528   MX-2013-168858  19-06-2013  24-06-2013  Standard Class   \n",
            "10256   25903    IN-2013-39231  19-06-2013  24-06-2013    Second Class   \n",
            "10257   21801    IN-2013-78081  19-06-2013  23-06-2013  Standard Class   \n",
            "10258   29659    IN-2013-53455  19-06-2013  23-06-2013  Standard Class   \n",
            "10259   25902    IN-2013-39231  19-06-2013  24-06-2013    Second Class   \n",
            "\n",
            "      Customer ID         Customer Name      Segment              City  \\\n",
            "0        BD-11560        Brendan Dodson  Home Office        Cuajimalpa   \n",
            "1        JO-15145         Jack O'Briant    Corporate  Thonon-les-Bains   \n",
            "2        KT-16465         Kean Takahito     Consumer  Presidente Dutra   \n",
            "3        JO-15145         Jack O'Briant    Corporate  Thonon-les-Bains   \n",
            "4        RB-19705          Roger Barcio  Home Office         Palembang   \n",
            "...           ...                   ...          ...               ...   \n",
            "10255    CA-12775       Cynthia Arntzen     Consumer  Santiago de Cuba   \n",
            "10256    KB-16585             Ken Black    Corporate         Devonport   \n",
            "10257    CS-12355  Christine Sundaresam     Consumer            Manila   \n",
            "10258    CR-12730          Craig Reiter     Consumer         Moradabad   \n",
            "10259    KB-16585             Ken Black    Corporate         Devonport   \n",
            "\n",
            "                  State  ...       Product ID         Category Sub-Category  \\\n",
            "0      Distrito Federal  ...  TEC-CO-10003964       Technology      Copiers   \n",
            "1           Rhône-Alpes  ...  FUR-BO-10000847        Furniture    Bookcases   \n",
            "2              Maranhão  ...  FUR-CH-10004801        Furniture       Chairs   \n",
            "3           Rhône-Alpes  ...  FUR-BO-10000895        Furniture    Bookcases   \n",
            "4      Sumatera Selatan  ...  FUR-CH-10000660        Furniture       Chairs   \n",
            "...                 ...  ...              ...              ...          ...   \n",
            "10255  Santiago de Cuba  ...  FUR-BO-10003631        Furniture    Bookcases   \n",
            "10256          Tasmania  ...  TEC-MA-10002340       Technology     Machines   \n",
            "10257  National Capital  ...  TEC-PH-10004281       Technology       Phones   \n",
            "10258     Uttar Pradesh  ...  TEC-PH-10002154       Technology       Phones   \n",
            "10259          Tasmania  ...  OFF-BI-10003098  Office Supplies      Binders   \n",
            "\n",
            "                                         Product Name      Sales Quantity  \\\n",
            "0                       Canon Fax Machine, High-Speed  631.91364        3   \n",
            "1                    Dania Stackable Bookrack, Mobile  437.72400        4   \n",
            "2                  Office Star Bag Chairs, Set of Two  215.37600       14   \n",
            "3                       Sauder Corner Shelving, Metal  264.16800        2   \n",
            "4      Novimex Executive Leather Armchair, Adjustable  332.52960        1   \n",
            "...                                               ...        ...      ...   \n",
            "10255                Safco Stackable Bookrack, Mobile  198.64000        2   \n",
            "10256                   Konica Receipt Printer, White  217.18800        2   \n",
            "10257                    Samsung Audio Dock, Cordless  381.78000        3   \n",
            "10258                        Cisco Headset, Full Size  179.46000        2   \n",
            "10259                  Ibico Binding Machine, Economy  138.83400        3   \n",
            "\n",
            "      Discount     Profit  Shipping Cost  Order Priority  \n",
            "0        0.002   87.35364          78.28        Critical  \n",
            "1        0.100  165.32400          68.34            High  \n",
            "2        0.600 -231.78400          39.85            High  \n",
            "3        0.100   55.72800          30.14            High  \n",
            "4        0.270   18.21960          30.14          Medium  \n",
            "...        ...        ...            ...             ...  \n",
            "10255    0.000   51.64000          22.47            High  \n",
            "10256    0.100   57.88800          22.01          Medium  \n",
            "10257    0.250   91.62000          17.81          Medium  \n",
            "10258    0.000   43.02000          12.58          Medium  \n",
            "10259    0.100   44.69400          12.44          Medium  \n",
            "\n",
            "[10260 rows x 24 columns]\n"
          ]
        }
      ]
    },
    {
      "cell_type": "markdown",
      "source": [
        "# Analizando Categorías, tendencias, medias y creando valor"
      ],
      "metadata": {
        "id": "WTxHFNE82qMd"
      }
    },
    {
      "cell_type": "markdown",
      "source": [
        "Su función será crear un \"deep dive\" que explorara 2 a 4 preguntas de negocios que pueda hacer con los datos: ¿Cuál es el mejor día de la semana de ventas? etc. Como mínimo su análisis debe incluir:\n",
        "\n",
        "- Comparar dos variables con al menos una segmentación por categoría\n",
        "- Analizar gráficamente multiples variables numéricas\n",
        "- Plot charts, Gráficos de tendencia y Barra con su análisis de que significa\n",
        "- Utilizar las ideas anteriores como sea necesario para cada pregunta de negocio.\n",
        "\n"
      ],
      "metadata": {
        "id": "Ghzcciw6jzdC"
      }
    },
    {
      "cell_type": "markdown",
      "source": [],
      "metadata": {
        "id": "DKLb1W6g_G6d"
      }
    },
    {
      "cell_type": "code",
      "source": [
        "import pandas as pd\n",
        "import matplotlib.pyplot as plt\n",
        "\n",
        "# Leer los datos\n",
        "path = '/content/drive/MyDrive/Superstore_dataset2011-2015-2.csv'\n",
        "df = pd.read_csv(path, encoding='latin-1')\n",
        "\n",
        "# Convertir la columna 'Order Date' a tipo de fecha\n",
        "df['Order Date'] = pd.to_datetime(df['Order Date'])\n",
        "\n",
        "# Agrupar por día de la semana y calcular el promedio de ventas\n",
        "sales_by_day = df.groupby(df['Order Date'].dt.day_name())['Sales'].mean().reset_index()\n",
        "\n",
        "# Ordenar los días de la semana\n",
        "days_of_week = ['Monday', 'Tuesday', 'Wednesday', 'Thursday', 'Friday', 'Saturday', 'Sunday']\n",
        "sales_by_day['Order Date'] = pd.Categorical(sales_by_day['Order Date'], categories=days_of_week, ordered=True)\n",
        "sales_by_day = sales_by_day.sort_values('Order Date')\n",
        "\n",
        "# Graficar el promedio de ventas por día de la semana\n",
        "plt.figure(figsize=(10, 6))\n",
        "plt.bar(sales_by_day['Order Date'], sales_by_day['Sales'])\n",
        "plt.xlabel('Día de la Semana')\n",
        "plt.ylabel('Promedio de Ventas')\n",
        "plt.title('Promedio de Ventas por Día de la Semana')\n",
        "plt.xticks(rotation=45)\n",
        "plt.show()"
      ],
      "metadata": {
        "id": "wu3K2yhbp-iB",
        "colab": {
          "base_uri": "https://localhost:8080/",
          "height": 673
        },
        "outputId": "34b54ec6-aff5-4eaa-b55e-068585ea0d0c"
      },
      "execution_count": 24,
      "outputs": [
        {
          "output_type": "stream",
          "name": "stderr",
          "text": [
            "<ipython-input-24-aab653b2981e>:9: UserWarning: Parsing dates in DD/MM/YYYY format when dayfirst=False (the default) was specified. This may lead to inconsistently parsed dates! Specify a format to ensure consistent parsing.\n",
            "  df['Order Date'] = pd.to_datetime(df['Order Date'])\n"
          ]
        },
        {
          "output_type": "display_data",
          "data": {
            "text/plain": [
              "<Figure size 1000x600 with 1 Axes>"
            ],
            "image/png": "[encoded data removed]"
          },
          "metadata": {}
        }
      ]
    },
    {
      "cell_type": "markdown",
      "source": [
        "# Conclusiones"
      ],
      "metadata": {
        "id": "7RTDtHLcp7Et"
      }
    },
    {
      "cell_type": "code",
      "source": [
        "# En base al análisis realizado, podemos concluir que los días jueves y viernes son los que registran el\n",
        "# mayor promedio de ventas en comparación con el resto de la semana. Esta tendencia podría ser aprovechada\n",
        "# para la planificación de estrategias de ventas y promociones específicas durante esos días, con el fin de\n",
        "# maximizar los ingresos. Además, observamos que el descuento aplicado a los productos parece tener una relación\n",
        "# negativa con el beneficio, lo que sugiere la necesidad de una gestión más precisa de los descuentos para mantener\n",
        "# márgenes de beneficio saludables. Estos hallazgos subrayan la importancia de un análisis continuo de los datos para\n",
        "# tomar decisiones informadas que impulsen el crecimiento y el valor en el negocio."
      ],
      "metadata": {
        "id": "P6CsJ6Dep94Z"
      },
      "execution_count": null,
      "outputs": []
    }
  ]
}